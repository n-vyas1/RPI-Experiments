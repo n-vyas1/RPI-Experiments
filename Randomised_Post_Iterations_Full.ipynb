{
 "cells": [
  {
   "cell_type": "code",
   "execution_count": 13,
   "id": "15fe9e06",
   "metadata": {},
   "outputs": [],
   "source": [
    "import numpy as np\n",
    "from matplotlib import pyplot as plt\n",
    "from scipy.stats import norm, uniform, kstest"
   ]
  },
  {
   "cell_type": "code",
   "execution_count": 14,
   "id": "d439a058",
   "metadata": {},
   "outputs": [
    {
     "name": "stdout",
     "output_type": "stream",
     "text": [
      "C:\\Users\\niall\\OneDrive - University of Southampton\\PhD\n"
     ]
    }
   ],
   "source": [
    "import os\n",
    "print(os.getcwd())"
   ]
  },
  {
   "cell_type": "code",
   "execution_count": 15,
   "id": "54b7fca6",
   "metadata": {},
   "outputs": [],
   "source": [
    "random_seed = 97"
   ]
  },
  {
   "cell_type": "markdown",
   "id": "1adc487e-6ff1-4268-aefa-b92c3414a825",
   "metadata": {},
   "source": [
    "**Function for computing W and d for A matrix**"
   ]
  },
  {
   "cell_type": "code",
   "execution_count": 17,
   "id": "236de82b",
   "metadata": {},
   "outputs": [],
   "source": [
    "# Function: computing W and d (diagonal entries)\n",
    "\n",
    "def A_matrix(A_dim=100, W_tilde_mean=0, W_tilde_scale=1, exp_rate=1):\n",
    "    \n",
    "    # IID N(W_tilde_mean, W_tilde_scale) entries\n",
    "    W_tilde = np.random.normal(loc = W_tilde_mean, \n",
    "                               scale = W_tilde_scale, \n",
    "                               size = (A_dim, A_dim))\n",
    "    \n",
    "    # QR decomposition\n",
    "    Q, R = np.linalg.qr(W_tilde)\n",
    "    W = Q\n",
    "\n",
    "    # Diagonal matrix elements (using Exp(lambda))\n",
    "    exp_scale = 1/exp_rate\n",
    "    d = np.random.exponential(scale=exp_scale, size=A_dim)\n",
    "    \n",
    "    return W, d"
   ]
  },
  {
   "cell_type": "markdown",
   "id": "fbb843f1-e4df-4097-bfee-04a880b39972",
   "metadata": {},
   "source": [
    "**Function for computing sample solution x**"
   ]
  },
  {
   "cell_type": "code",
   "execution_count": 23,
   "id": "56e60d32",
   "metadata": {},
   "outputs": [],
   "source": [
    "# Function: drawing solution vectors x^(i) from prior mu_0 = N(0, A^-1)\n",
    "\n",
    "def sample_solution_x(W, d):\n",
    "    \n",
    "    # Inverse & squareroot of D matrix elements for transforming std. normal samples\n",
    "    inv_sqrt_d = 1.0 / np.sqrt(d)\n",
    "    B = W @ np.diag(inv_sqrt_d)\n",
    "    \n",
    "    # Std. normal samples\n",
    "    z = np.random.normal(size=(W.shape[0], 1))\n",
    "    \n",
    "    # Transform\n",
    "    solution_x = B @ z\n",
    "    \n",
    "    return solution_x"
   ]
  },
  {
   "cell_type": "markdown",
   "id": "8550e1cb-f2f0-4ffc-bc8d-4572cf8cb96d",
   "metadata": {},
   "source": [
    "**Randomised Post-Iteration Algorithm**"
   ]
  },
  {
   "cell_type": "code",
   "execution_count": 119,
   "id": "50b9811a",
   "metadata": {},
   "outputs": [],
   "source": [
    "# Function: Randomised Postiterations (Algorithm 1)\n",
    "\n",
    "def rand_post_iter(A, b, x0, eps_1, eps_2, max_iter):\n",
    "    \n",
    "    \"\"\"\n",
    "    Inputs: \n",
    "    A: Matrix A (n x n)\n",
    "    b: Vector b (n x 1)\n",
    "    x0: Initial solution\n",
    "    eps_1: Threshold 1\n",
    "    eps_2: Threshold 2\n",
    "    max_iter: Maximum number of post-iterations\n",
    "\n",
    "    Returns:\n",
    "    x_solution: Solution from convergence after Threshold 1 (n x 1)\n",
    "    L_matrix: Constructed from phi*search-directions (n x post-iterations)\n",
    "    P_m: Matrix of unnormalised search directions (from post-iterations)\n",
    "    z: Random normal sample (mean:1, sd: phi_list)\n",
    "    \n",
    "    \"\"\"\n",
    "    \n",
    "    # Initialisation\n",
    "    k = 0\n",
    "    k2 = 0 # For number of post-iterations\n",
    "\n",
    "    # Initial residual and search direction\n",
    "    r = b - A @ x0\n",
    "    r_list = [r]\n",
    "    psi_list =[]\n",
    "    p = r.copy()\n",
    "    p_list = [p]\n",
    "    \n",
    "    x = x0.copy()\n",
    "    x_list = [x0]\n",
    "\n",
    "    # L: list storing phi*search-direction\n",
    "    L = []\n",
    "\n",
    "    # Flags for if L is empty and when x_solution is found\n",
    "    appended_to_L = False\n",
    "    x_solution = None\n",
    "\n",
    "    # CG LOOP\n",
    "    # to find x* with ||r|| <= eps_1\n",
    "    while True:\n",
    "        \n",
    "        Ap = A @ p\n",
    "        rTr = r.T @ r\n",
    "        alpha = (rTr) / (p.T @ Ap)\n",
    "        \n",
    "        x_new = x + (alpha * p)\n",
    "        x_list.append(x_new)\n",
    "\n",
    "        # CG Residual\n",
    "        r_new = r - (alpha * Ap)\n",
    "        \n",
    "        # Exact Residual if it helps\n",
    "        # r_new = b - A @ x_new\n",
    "        \n",
    "        beta = (r_new.T @ r_new) / rTr\n",
    "\n",
    "        # New search direction (option for regular CG update)\n",
    "        p_new = r_new # + beta * p\n",
    "\n",
    "        # Orthogonilising search directions\n",
    "        for p_i in p_list:\n",
    "            p_new = p_new - (p_new.T @ A @ p_i)/(p_i.T @ A @ p_i) * p_i\n",
    "        \n",
    "        p_list.append(p_new)\n",
    "\n",
    "        # Checking for Threshold 1: save x_solution if converged\n",
    "        if (x_solution is None) and (np.linalg.norm(r_new) <= eps_1):\n",
    "            \n",
    "            x_solution = x_new.copy()\n",
    "#             print(f\"Converged: less than eps_1 at iteration {k}\")\n",
    "\n",
    "        # Post-iterations: once x_solution is found and Threshold 2 not met\n",
    "        if (x_solution is not None) and (np.linalg.norm(r_new) > eps_2):\n",
    "            \n",
    "            psi = alpha.copy()\n",
    "            psi_list.append(psi)\n",
    "            # print(\"Alpha = \", alpha, \"at K = \", k)\n",
    "            # print(\"Psi = \", psi)\n",
    "            L.append(psi*p)\n",
    "            # print(\"k2 = \", k2)\n",
    "\n",
    "            k2 += 1\n",
    "            appended_to_L = True\n",
    "\n",
    "        if k2 == max_iter:\n",
    "#             print(\"Hit maximum iterations\")\n",
    "            break\n",
    "            \n",
    "        elif (np.linalg.norm(r_new) <= eps_2):\n",
    "#             print(f\"Converged: less than eps_2 at iteration {k}\")\n",
    "            break\n",
    "        \n",
    "        x = x_new\n",
    "        r = r_new\n",
    "        p = p_new\n",
    "        k += 1\n",
    "\n",
    "    # Just in case Threshold 1 and 2 are reached at same time (adds one post-iteration)\n",
    "    if not appended_to_L:\n",
    "#        print(\"No directions added to L\")\n",
    "        psi = alpha \n",
    "        L.append(psi * p)\n",
    "    \n",
    "    # Constructing L matrix from list\n",
    "    L_matrix = np.column_stack(L)\n",
    "#     print(\"L dimensions:\", L_matrix.shape)\n",
    "\n",
    "    # Storing post-iteration search directions\n",
    "    P_m = np.hstack(p_list[-k2:])\n",
    "    \n",
    "    # Random N(1, phi) \n",
    "    z = np.random.normal(1, psi_list).reshape(-1, 1)\n",
    "    \n",
    "    return x_solution, L_matrix, P_m, z"
   ]
  },
  {
   "cell_type": "markdown",
   "id": "93af1aa2-f5a7-469e-8540-55a94eabef5b",
   "metadata": {},
   "source": [
    "**Simulation based calibration routine (only currently works with specifying number of post-iterations)**\n",
    "\n",
    "Can access all CDF values from post-iterations 1 -> max_iterations"
   ]
  },
  {
   "cell_type": "code",
   "execution_count": 48,
   "id": "818a78f1",
   "metadata": {},
   "outputs": [],
   "source": [
    "def sim_based_cal( \n",
    "    x0, \n",
    "    eps_1, \n",
    "    eps_2,\n",
    "    max_iter,\n",
    "    A_dim = 100, \n",
    "    W_tilde_mean = 0, \n",
    "    W_tilde_scale = 1, \n",
    "    exp_rate = 1,\n",
    "    n_sim = 1,\n",
    "):\n",
    "\n",
    "    \"\"\"\n",
    "    ---------\n",
    "    Inputs:\n",
    "    ---------\n",
    "    x0: initial solution\n",
    "    eps_1: Threshold 1\n",
    "    eps_2: Threshold 2\n",
    "    max_iter: maximum number of post-iterations\n",
    "    A_dim: dimension of matrix A\n",
    "    W_tilde_mean: mean of W for constructing A\n",
    "    W_tilde_scale: scale parameter of w for constructing A\n",
    "    exp_rate: rate of exponential variable for constructing A\n",
    "    n_sim: number of simulations \n",
    "    ---------\n",
    "    Returns:\n",
    "    ---------\n",
    "    t_array: numpy array containing CDF values from simulations - Dimension: Number of simulations x Number of post-iterations x 1\n",
    "    \n",
    "    \"\"\"\n",
    "    # List for storing CDF values for final array\n",
    "    t_sim = []\n",
    "\n",
    "    # Fixed random projection vector\n",
    "    w = np.random.normal(loc = 0, scale=1, size=A_dim)\n",
    "    \n",
    "    # Computing fixed A/W/d for entire experiment\n",
    "    W, d = A_matrix(A_dim, W_tilde_mean, W_tilde_scale, exp_rate)\n",
    "    A = W @ np.diag(d) @ W.T\n",
    "\n",
    "    # Loop: number of simulations\n",
    "    for i in range(n_sim):\n",
    "\n",
    "        # Stores CDF values\n",
    "        t_iter = []\n",
    "        \n",
    "        # Sampled solution\n",
    "        x_star = sample_solution_x(W, d)\n",
    "#         print('X Star: ', x_star)\n",
    "        b = A @ x_star\n",
    "        \n",
    "        x_solution, L_matrix, P_m, z = rand_post_iter(A, b, x0, eps_1, eps_2, max_iter)\n",
    "        \n",
    "        for post_iters in range(max_iter):\n",
    "            \n",
    "            x_solution_rand = x_solution + P_m[:, :post_iters+1] @ z[:post_iters+1]\n",
    "#             print('Random X Solution: ',  x_solution_rand)\n",
    "            \n",
    "            L = L_matrix[:, :post_iters+1]\n",
    "#             print('L Matrix: ', L)\n",
    "\n",
    "            # CDF computations\n",
    "            numerator = w.T @ (x_solution_rand - x_star)\n",
    "            denominator = np.sqrt(w.T @ L @ L.T @ w)\n",
    "            \n",
    "            # print('Numerator: ', numerator)\n",
    "            # print('Denominator: ', denominator)\n",
    "            \n",
    "            cdf = norm.cdf(numerator/denominator)\n",
    "            t_iter.append(cdf)\n",
    "            \n",
    "        t_sim.append(t_iter)\n",
    " \n",
    "    t_array = np.array(t_sim)\n",
    "    \n",
    "    return t_array"
   ]
  },
  {
   "cell_type": "markdown",
   "id": "33cb62ac",
   "metadata": {},
   "source": [
    "**Examples**"
   ]
  },
  {
   "cell_type": "code",
   "execution_count": 135,
   "id": "f12da368",
   "metadata": {},
   "outputs": [],
   "source": [
    "np.random.seed(204)\n",
    "\n",
    "t_values = sim_based_cal( \n",
    "        x0 = np.zeros((100,1)), \n",
    "        eps_1 = 1e-3,\n",
    "        eps_2 = 1e-12,\n",
    "        max_iter = 20,\n",
    "        A_dim = 100, \n",
    "        W_tilde_mean = 0, \n",
    "        W_tilde_scale = 1, \n",
    "        exp_rate = 1,\n",
    "        n_sim = 10000\n",
    ")"
   ]
  },
  {
   "cell_type": "code",
   "execution_count": 137,
   "id": "88ba9153-1cf5-4610-9b79-b654eb4a1519",
   "metadata": {},
   "outputs": [
    {
     "data": {
      "text/plain": [
       "(10000, 20, 1)"
      ]
     },
     "execution_count": 137,
     "metadata": {},
     "output_type": "execute_result"
    }
   ],
   "source": [
    "t_values.shape"
   ]
  },
  {
   "cell_type": "code",
   "execution_count": 145,
   "id": "62181614",
   "metadata": {},
   "outputs": [
    {
     "data": {
      "image/png": "[encoded data removed]",
      "text/plain": [
       "<Figure size 1600x900 with 2 Axes>"
      ]
     },
     "metadata": {},
     "output_type": "display_data"
    }
   ],
   "source": [
    "# Choose the 1:max_iter\n",
    "Post_Iteration_Number = 15\n",
    "fig, (ax1, ax2) = plt.subplots(1, 2, figsize=(16,9))\n",
    "fig.suptitle(f'Post-iterations: {Post_Iteration_Number}')\n",
    "ax1.hist(t_values[:, Post_Iteration_Number-1, :], 10)\n",
    "ax2.hist(t_values[:, Post_Iteration_Number-1, :], 50);"
   ]
  },
  {
   "cell_type": "markdown",
   "id": "36442065-2c29-4c03-b680-e3f651b41fde",
   "metadata": {},
   "source": [
    "**KS Statistic Plot**"
   ]
  },
  {
   "cell_type": "code",
   "execution_count": 109,
   "id": "a05068b7-2b3e-44ca-bd71-ae1382e3af76",
   "metadata": {},
   "outputs": [
    {
     "data": {
      "text/plain": [
       "[<matplotlib.lines.Line2D at 0x22ff22ca120>]"
      ]
     },
     "execution_count": 109,
     "metadata": {},
     "output_type": "execute_result"
    },
    {
     "data": {
      "image/png": "[encoded data removed]",
      "text/plain": [
       "<Figure size 640x480 with 1 Axes>"
      ]
     },
     "metadata": {},
     "output_type": "display_data"
    }
   ],
   "source": [
    "ks_stat = []\n",
    "\n",
    "for i in range(20):\n",
    "    ks_stat.append(kstest(t_values[:, i, :], uniform.cdf)[0][0])\n",
    "\n",
    "plt.plot(ks_stat)"
   ]
  },
  {
   "cell_type": "markdown",
   "id": "7db346ae",
   "metadata": {},
   "source": [
    "**Everything below is just the code I used to make a GIF of the histograms**"
   ]
  },
  {
   "cell_type": "code",
   "execution_count": 17,
   "id": "bc0dbc85",
   "metadata": {},
   "outputs": [],
   "source": [
    "import imageio\n",
    "directory = \"hist_m_post_iter\"\n",
    "os.makedirs(directory, exist_ok=True)"
   ]
  },
  {
   "cell_type": "code",
   "execution_count": 84,
   "id": "275f6e99",
   "metadata": {},
   "outputs": [],
   "source": [
    "data_size = 100\n",
    "\n",
    "t_list = []\n",
    "\n",
    "for i in range(1,40):\n",
    "    \n",
    "    np.random.seed(random_seed)\n",
    "\n",
    "    t_list.append(sim_based_cal( \n",
    "        x0 = np.zeros((data_size,1)), \n",
    "        eps_1 = 1e-3, \n",
    "        eps_2 = 1e-20,\n",
    "        max_iter=i,\n",
    "        A_dim = data_size, \n",
    "        W_tilde_mean = 0, \n",
    "        W_tilde_scale = 1, \n",
    "        exp_rate = 1,\n",
    "        n_sim = 1\n",
    "    ))"
   ]
  },
  {
   "cell_type": "code",
   "execution_count": 23,
   "id": "6e11e591",
   "metadata": {},
   "outputs": [],
   "source": [
    "filenames = []\n",
    "for i in range(1, 40):\n",
    "    \n",
    "    plt.figure()\n",
    "    plt.hist(t_list[i-1], bins=20, color='skyblue', edgecolor='black')\n",
    "    plt.title(f'Post-Iterations: {i+1}')\n",
    "    plt.xlabel('CDF')\n",
    "    plt.ylabel('Frequency')\n",
    "\n",
    "    filename = f'frame_{i}.png'\n",
    "    filename = os.path.join(directory, f'frame_{i}.png')\n",
    "    plt.savefig(filename)\n",
    "    filenames.append(filename)\n",
    "    plt.close()"
   ]
  },
  {
   "cell_type": "code",
   "execution_count": 25,
   "id": "52719efc",
   "metadata": {},
   "outputs": [
    {
     "name": "stderr",
     "output_type": "stream",
     "text": [
      "C:\\Users\\niall\\AppData\\Local\\Temp\\ipykernel_20612\\4082719691.py:3: DeprecationWarning: Starting with ImageIO v3 the behavior of this function will switch to that of iio.v3.imread. To keep the current behavior (and make this warning disappear) use `import imageio.v2 as imageio` or call `imageio.v2.imread` directly.\n",
      "  image = imageio.imread(filename)\n"
     ]
    }
   ],
   "source": [
    "with imageio.get_writer('histogram_evolution_m_post_iter.gif', mode='I', duration=5) as writer:\n",
    "    for filename in filenames:\n",
    "        image = imageio.imread(filename)\n",
    "        writer.append_data(image)"
   ]
  },
  {
   "cell_type": "markdown",
   "id": "5369bb54",
   "metadata": {},
   "source": [
    "**Varying $\\epsilon_2$ between 1e-4 and 1e-12, $\\epsilon_1$ fixed at 1e-3**"
   ]
  },
  {
   "cell_type": "code",
   "execution_count": 85,
   "id": "8470819e",
   "metadata": {},
   "outputs": [],
   "source": [
    "directory = \"hist_eps2_iter\"\n",
    "os.makedirs(directory, exist_ok=True)"
   ]
  },
  {
   "cell_type": "code",
   "execution_count": 86,
   "id": "fa6d282f",
   "metadata": {},
   "outputs": [
    {
     "name": "stdout",
     "output_type": "stream",
     "text": [
      "0\n",
      "1\n",
      "2\n",
      "3\n",
      "4\n",
      "5\n",
      "6\n",
      "7\n",
      "8\n",
      "9\n",
      "10\n",
      "11\n",
      "12\n",
      "13\n",
      "14\n",
      "15\n",
      "16\n",
      "17\n",
      "18\n",
      "19\n",
      "20\n",
      "21\n",
      "22\n",
      "23\n",
      "24\n",
      "25\n",
      "26\n",
      "27\n",
      "28\n",
      "29\n"
     ]
    }
   ],
   "source": [
    "data_size = 100\n",
    "eps2_list = np.logspace(-4, -12, num=30)\n",
    "t_list = []\n",
    "\n",
    "for index, eps2 in enumerate(eps2_list):\n",
    "    \n",
    "    np.random.seed(random_seed)\n",
    "\n",
    "    t_list.append(sim_based_cal( \n",
    "        x0 = np.zeros((data_size,1)), \n",
    "        eps_1 = 1e-3, \n",
    "        eps_2 = eps2,\n",
    "        max_iter=200,\n",
    "        A_dim = data_size, \n",
    "        W_tilde_mean = 0, \n",
    "        W_tilde_scale = 1, \n",
    "        exp_rate = 1,\n",
    "        n_sim = 1000\n",
    "    ))\n",
    "    \n",
    "    print(index)"
   ]
  },
  {
   "cell_type": "code",
   "execution_count": 93,
   "id": "300dddba",
   "metadata": {},
   "outputs": [
    {
     "data": {
      "text/plain": [
       "(array([ 95., 114.,  95., 111.,  68.,  79.,  88., 113., 126., 111.]),\n",
       " array([0.00842263, 0.10674507, 0.20506751, 0.30338995, 0.40171239,\n",
       "        0.50003483, 0.59835727, 0.6966797 , 0.79500214, 0.89332458,\n",
       "        0.99164702]),\n",
       " <BarContainer object of 10 artists>)"
      ]
     },
     "execution_count": 93,
     "metadata": {},
     "output_type": "execute_result"
    },
    {
     "data": {
      "image/png": "[encoded data removed]",
      "text/plain": [
       "<Figure size 640x480 with 1 Axes>"
      ]
     },
     "metadata": {},
     "output_type": "display_data"
    }
   ],
   "source": [
    "plt.hist(t_list[-1])"
   ]
  },
  {
   "cell_type": "code",
   "execution_count": 94,
   "id": "04a4b5ab",
   "metadata": {},
   "outputs": [],
   "source": [
    "filenames = []\n",
    "for i, eps in enumerate(eps2_list):\n",
    "    \n",
    "    plt.figure()\n",
    "    plt.hist(t_list[i], bins=20, color='skyblue', edgecolor='black')\n",
    "    plt.title(f'Epsilon: {eps}')\n",
    "    plt.xlabel('CDF')\n",
    "    plt.ylabel('Frequency')\n",
    "\n",
    "    filename = f'frame_{i}.png'\n",
    "    filename = os.path.join(directory, f'frame_{i}.png')\n",
    "    plt.savefig(filename)\n",
    "    filenames.append(filename)\n",
    "    plt.close()"
   ]
  },
  {
   "cell_type": "code",
   "execution_count": 95,
   "id": "fcf8bf38",
   "metadata": {},
   "outputs": [
    {
     "name": "stderr",
     "output_type": "stream",
     "text": [
      "C:\\Users\\niall\\AppData\\Local\\Temp\\ipykernel_20612\\2123436674.py:3: DeprecationWarning: Starting with ImageIO v3 the behavior of this function will switch to that of iio.v3.imread. To keep the current behavior (and make this warning disappear) use `import imageio.v2 as imageio` or call `imageio.v2.imread` directly.\n",
      "  image = imageio.imread(filename)\n"
     ]
    }
   ],
   "source": [
    "with imageio.get_writer('histogram_evolution_eps2.gif', mode='I', duration=2) as writer:\n",
    "    for filename in filenames:\n",
    "        image = imageio.imread(filename)\n",
    "        writer.append_data(image)"
   ]
  },
  {
   "cell_type": "code",
   "execution_count": 96,
   "id": "0dc00e8a",
   "metadata": {},
   "outputs": [
    {
     "name": "stdout",
     "output_type": "stream",
     "text": [
      "KstestResult(statistic=array([0.04353614]), pvalue=array([0.04382957]), statistic_location=array([0.26246386]), statistic_sign=array([1.]))\n",
      "KstestResult(statistic=array([0.04946988]), pvalue=array([0.0144658]), statistic_location=array([0.34053012]), statistic_sign=array([1.]))\n",
      "KstestResult(statistic=array([0.06648207]), pvalue=array([0.00027529]), statistic_location=array([0.24251793]), statistic_sign=array([1.]))\n",
      "KstestResult(statistic=array([0.03711086]), pvalue=array([0.12412072]), statistic_location=array([0.93388914]), statistic_sign=array([1.]))\n",
      "KstestResult(statistic=array([0.04566125]), pvalue=array([0.02995019]), statistic_location=array([0.58366125]), statistic_sign=array([-1.]))\n",
      "KstestResult(statistic=array([0.03759352]), pvalue=array([0.11544983]), statistic_location=array([0.92140648]), statistic_sign=array([1.]))\n",
      "KstestResult(statistic=array([0.03222715]), pvalue=array([0.24478534]), statistic_location=array([0.64522715]), statistic_sign=array([-1.]))\n",
      "KstestResult(statistic=array([0.03764207]), pvalue=array([0.11460596]), statistic_location=array([0.33135793]), statistic_sign=array([1.]))\n",
      "KstestResult(statistic=array([0.04168108]), pvalue=array([0.06021256]), statistic_location=array([0.80168108]), statistic_sign=array([-1.]))\n",
      "KstestResult(statistic=array([0.04199859]), pvalue=array([0.05708299]), statistic_location=array([0.31500141]), statistic_sign=array([1.]))\n",
      "KstestResult(statistic=array([0.02415206]), pvalue=array([0.59536948]), statistic_location=array([0.95984794]), statistic_sign=array([1.]))\n",
      "KstestResult(statistic=array([0.05701727]), pvalue=array([0.00287963]), statistic_location=array([0.67301727]), statistic_sign=array([-1.]))\n",
      "KstestResult(statistic=array([0.04402622]), pvalue=array([0.04020956]), statistic_location=array([0.24897378]), statistic_sign=array([1.]))\n",
      "KstestResult(statistic=array([0.0590186]), pvalue=array([0.00180629]), statistic_location=array([0.2709814]), statistic_sign=array([1.]))\n",
      "KstestResult(statistic=array([0.03570022]), pvalue=array([0.15254922]), statistic_location=array([0.27129978]), statistic_sign=array([1.]))\n",
      "KstestResult(statistic=array([0.04295713]), pvalue=array([0.0484685]), statistic_location=array([0.70595713]), statistic_sign=array([-1.]))\n",
      "KstestResult(statistic=array([0.03438009]), pvalue=array([0.18366784]), statistic_location=array([0.31061991]), statistic_sign=array([1.]))\n",
      "KstestResult(statistic=array([0.05727966]), pvalue=array([0.00271131]), statistic_location=array([0.69627966]), statistic_sign=array([-1.]))\n",
      "KstestResult(statistic=array([0.04921541]), pvalue=array([0.01521412]), statistic_location=array([0.35978459]), statistic_sign=array([1.]))\n",
      "KstestResult(statistic=array([0.0353176]), pvalue=array([0.16110045]), statistic_location=array([0.4136824]), statistic_sign=array([1.]))\n",
      "KstestResult(statistic=array([0.04065773]), pvalue=array([0.07131872]), statistic_location=array([0.68165773]), statistic_sign=array([-1.]))\n",
      "KstestResult(statistic=array([0.03095732]), pvalue=array([0.28731646]), statistic_location=array([0.70595732]), statistic_sign=array([-1.]))\n",
      "KstestResult(statistic=array([0.04365584]), pvalue=array([0.04292017]), statistic_location=array([0.75165584]), statistic_sign=array([-1.]))\n",
      "KstestResult(statistic=array([0.05077959]), pvalue=array([0.01111261]), statistic_location=array([0.69977959]), statistic_sign=array([-1.]))\n",
      "KstestResult(statistic=array([0.04411483]), pvalue=array([0.03958363]), statistic_location=array([0.31988517]), statistic_sign=array([1.]))\n",
      "KstestResult(statistic=array([0.03444027]), pvalue=array([0.18214835]), statistic_location=array([0.06444027]), statistic_sign=array([-1.]))\n",
      "KstestResult(statistic=array([0.03572428]), pvalue=array([0.152024]), statistic_location=array([0.92527572]), statistic_sign=array([1.]))\n",
      "KstestResult(statistic=array([0.04917947]), pvalue=array([0.01532259]), statistic_location=array([0.25982053]), statistic_sign=array([1.]))\n",
      "KstestResult(statistic=array([0.03563222]), pvalue=array([0.15404186]), statistic_location=array([0.90436778]), statistic_sign=array([1.]))\n",
      "KstestResult(statistic=array([0.0510608]), pvalue=array([0.01049146]), statistic_location=array([0.7140608]), statistic_sign=array([-1.]))\n"
     ]
    }
   ],
   "source": [
    "for i in t_list:\n",
    "    print(kstest(i, uniform.cdf))"
   ]
  },
  {
   "cell_type": "code",
   "execution_count": 97,
   "id": "c807b464",
   "metadata": {},
   "outputs": [],
   "source": [
    "ks_stat2 = []\n",
    "\n",
    "for i in t_list:\n",
    "    ks_stat2.append(kstest(i, uniform.cdf)[0][0])"
   ]
  },
  {
   "cell_type": "code",
   "execution_count": 98,
   "id": "7f3ac12b",
   "metadata": {},
   "outputs": [
    {
     "data": {
      "image/png": "[encoded data removed]",
      "text/plain": [
       "<Figure size 640x480 with 1 Axes>"
      ]
     },
     "metadata": {},
     "output_type": "display_data"
    }
   ],
   "source": [
    "plt.plot(eps2_list, ks_stat2)\n",
    "plt.xscale('log')"
   ]
  }
 ],
 "metadata": {
  "kernelspec": {
   "display_name": "Python [conda env:base] *",
   "language": "python",
   "name": "conda-base-py"
  },
  "language_info": {
   "codemirror_mode": {
    "name": "ipython",
    "version": 3
   },
   "file_extension": ".py",
   "mimetype": "text/x-python",
   "name": "python",
   "nbconvert_exporter": "python",
   "pygments_lexer": "ipython3",
   "version": "3.12.7"
  }
 },
 "nbformat": 4,
 "nbformat_minor": 5
}
